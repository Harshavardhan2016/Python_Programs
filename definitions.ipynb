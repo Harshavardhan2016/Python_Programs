{
 "cells": [
  {
   "cell_type": "code",
   "execution_count": 1,
   "id": "239b27f6",
   "metadata": {},
   "outputs": [
    {
     "data": {
      "text/plain": [
       "bool"
      ]
     },
     "execution_count": 1,
     "metadata": {},
     "output_type": "execute_result"
    }
   ],
   "source": [
    "type(True)"
   ]
  },
  {
   "cell_type": "code",
   "execution_count": 5,
   "id": "cb357fd9",
   "metadata": {},
   "outputs": [
    {
     "data": {
      "text/plain": [
       "dict"
      ]
     },
     "execution_count": 5,
     "metadata": {},
     "output_type": "execute_result"
    }
   ],
   "source": [
    "type(dict())"
   ]
  },
  {
   "cell_type": "code",
   "execution_count": 6,
   "id": "cb8963fc",
   "metadata": {},
   "outputs": [
    {
     "data": {
      "text/plain": [
       "set"
      ]
     },
     "execution_count": 6,
     "metadata": {},
     "output_type": "execute_result"
    }
   ],
   "source": [
    "type(set())"
   ]
  },
  {
   "cell_type": "code",
   "execution_count": 14,
   "id": "31f037f9",
   "metadata": {},
   "outputs": [
    {
     "data": {
      "text/plain": [
       "{'name1': {'harsha': 12}, 'name2': {'vardhan': 15}, 'name3': {'shree': 17}}"
      ]
     },
     "execution_count": 14,
     "metadata": {},
     "output_type": "execute_result"
    }
   ],
   "source": [
    "name1 = {'harsha':12}\n",
    "name2 = {'vardhan':15}\n",
    "name3 = {'shree':17}\n",
    "\n",
    "name = {'name1':name1, 'name2':name2, 'name3':name3}\n",
    "name"
   ]
  },
  {
   "cell_type": "code",
   "execution_count": 15,
   "id": "5e36667c",
   "metadata": {},
   "outputs": [
    {
     "data": {
      "text/plain": [
       "12"
      ]
     },
     "execution_count": 15,
     "metadata": {},
     "output_type": "execute_result"
    }
   ],
   "source": [
    "name['name1']['harsha']"
   ]
  },
  {
   "cell_type": "code",
   "execution_count": 18,
   "id": "e78c4399",
   "metadata": {},
   "outputs": [],
   "source": [
    "del name['name1']"
   ]
  },
  {
   "cell_type": "code",
   "execution_count": 19,
   "id": "7e5c3208",
   "metadata": {},
   "outputs": [
    {
     "data": {
      "text/plain": [
       "{'name2': {'vardhan': 15}, 'name3': {'shree': 17}}"
      ]
     },
     "execution_count": 19,
     "metadata": {},
     "output_type": "execute_result"
    }
   ],
   "source": [
    "name"
   ]
  },
  {
   "cell_type": "code",
   "execution_count": 32,
   "id": "62df42cf",
   "metadata": {},
   "outputs": [
    {
     "data": {
      "text/plain": [
       "[1, 5, 8, 7, 6, 3, 2, 6, 5]"
      ]
     },
     "execution_count": 32,
     "metadata": {},
     "output_type": "execute_result"
    }
   ],
   "source": [
    "l=[1,5,8,7,6,3]\n",
    "\n",
    "l1=[2,6,5]\n",
    "\n",
    "l.extend(l1)\n",
    "\n",
    "l"
   ]
  },
  {
   "cell_type": "code",
   "execution_count": 42,
   "id": "ff0d76d7",
   "metadata": {},
   "outputs": [
    {
     "data": {
      "text/plain": [
       "2"
      ]
     },
     "execution_count": 42,
     "metadata": {},
     "output_type": "execute_result"
    }
   ],
   "source": [
    "l.count(6)"
   ]
  },
  {
   "cell_type": "code",
   "execution_count": 59,
   "id": "c4016cfd",
   "metadata": {},
   "outputs": [
    {
     "name": "stdout",
     "output_type": "stream",
     "text": [
      "Hello!\n"
     ]
    }
   ],
   "source": [
    "def greet_user():\n",
    " \"\"\"Display a simple greeting.\"\"\"\n",
    " print(\"Hello!\")\n",
    " \n",
    "greet_user()"
   ]
  },
  {
   "cell_type": "code",
   "execution_count": 4,
   "id": "9d6cc9cd",
   "metadata": {},
   "outputs": [
    {
     "name": "stdout",
     "output_type": "stream",
     "text": [
      "Hello, Jok!\n"
     ]
    }
   ],
   "source": [
    "def greet_user(username):\n",
    "    \"\"\"Display a simple greeting.\"\"\"\n",
    "    print(\"Hello, \" + username.title() + \"!\")\n",
    "jesse='jok'\n",
    "greet_user(jesse)"
   ]
  },
  {
   "cell_type": "code",
   "execution_count": 5,
   "id": "8cc6694b",
   "metadata": {},
   "outputs": [
    {
     "name": "stdout",
     "output_type": "stream",
     "text": [
      "\n",
      "I have a hamster.\n",
      "My hamster's name is Harry.\n",
      "\n",
      "I have a dog.\n",
      "My dog's name is Willie.\n"
     ]
    }
   ],
   "source": [
    "def describe_pet(animal_type, pet_name):\n",
    " \"\"\"Display information about a pet.\"\"\"\n",
    " print(\"\\nI have a \" + animal_type + \".\")\n",
    " print(\"My \" + animal_type + \"'s name is \" + pet_name.title() + \".\")\n",
    " \n",
    "describe_pet('hamster', 'harry')\n",
    "describe_pet('dog', 'willie')"
   ]
  },
  {
   "cell_type": "code",
   "execution_count": 6,
   "id": "16a6bdb2",
   "metadata": {},
   "outputs": [
    {
     "name": "stdout",
     "output_type": "stream",
     "text": [
      "\n",
      "I have a hamster.\n",
      "My hamster's name is Harry.\n"
     ]
    }
   ],
   "source": [
    "def describe_pet(animal_type, pet_name):\n",
    " \"\"\"Display information about a pet.\"\"\"\n",
    " print(\"\\nI have a \" + animal_type + \".\")\n",
    " print(\"My \" + animal_type + \"'s name is \" + pet_name.title() + \".\")\n",
    " \n",
    "describe_pet(animal_type='hamster', pet_name='harry')"
   ]
  },
  {
   "cell_type": "code",
   "execution_count": 15,
   "id": "c582aad9",
   "metadata": {},
   "outputs": [
    {
     "name": "stdout",
     "output_type": "stream",
     "text": [
      "Jimi Hendrix\n"
     ]
    }
   ],
   "source": [
    "def get_formatted_name(first_name, last_name):\n",
    "    \"\"\"Return a full name, neatly formatted.\"\"\"\n",
    "    full_name = first_name + ' ' + last_name\n",
    "    return full_name.title()\n",
    "    musician = get_formatted_name('jimi', 'hendrix')\n",
    "print(musician)"
   ]
  },
  {
   "cell_type": "code",
   "execution_count": 9,
   "id": "0201ff07",
   "metadata": {},
   "outputs": [
    {
     "name": "stdout",
     "output_type": "stream",
     "text": [
      "Harsha Vardhan\n",
      "Harshashreevardhan\n"
     ]
    }
   ],
   "source": [
    "def name(fn,ln,mn=' '):\n",
    "    if mn:\n",
    "        fnn =fn+mn+ln\n",
    "    else:\n",
    "        fnn = fn+ln\n",
    "    return fnn.title()\n",
    "nm = name('harsha','vardhan')\n",
    "print(nm)\n",
    "nm = name('harsha','vardhan','shree')\n",
    "print(nm)"
   ]
  },
  {
   "cell_type": "code",
   "execution_count": 3,
   "id": "3d123558",
   "metadata": {},
   "outputs": [
    {
     "name": "stdout",
     "output_type": "stream",
     "text": [
      "{'first': 'jimi', 'last': 'hendrix'}\n"
     ]
    }
   ],
   "source": [
    "def build_person(first_name, last_name):\n",
    "    \"\"\"Return a dictionary of information about a person.\"\"\"\n",
    "    person = {'first': first_name, 'last': last_name}\n",
    "    return person\n",
    "\n",
    "\n",
    "musician = build_person('jimi', 'hendrix')\n",
    "print(musician)"
   ]
  },
  {
   "cell_type": "code",
   "execution_count": 5,
   "id": "693db4f3",
   "metadata": {},
   "outputs": [
    {
     "name": "stdout",
     "output_type": "stream",
     "text": [
      "{'first': 'jimi', 'last': 'hendrix', 'age': 27}\n"
     ]
    }
   ],
   "source": [
    "def build_person(first_name, last_name, age=''):\n",
    " \"\"\"Return a dictionary of information about a person.\"\"\"\n",
    " person = {'first': first_name, 'last': last_name}\n",
    " if age:\n",
    "  person['age'] = age\n",
    " return person\n",
    "musician = build_person('jimi', 'hendrix', age=27)\n",
    "print(musician)"
   ]
  },
  {
   "cell_type": "code",
   "execution_count": 12,
   "id": "4b4465e2",
   "metadata": {},
   "outputs": [
    {
     "name": "stdout",
     "output_type": "stream",
     "text": [
      "\n",
      "Please tell me your name:\n",
      "First name: hi\n",
      "Last name: hi\n",
      "\n",
      "Hello, Hi Hi!\n"
     ]
    }
   ],
   "source": [
    "def get_formatted_name(first_name, last_name):\n",
    " \"\"\"Return a full name, neatly formatted.\"\"\"\n",
    " full_name = first_name + ' ' + last_name\n",
    " return full_name.title()\n",
    "# This is an infinite loop!\n",
    "while True:\n",
    " print(\"\\nPlease tell me your name:\")\n",
    " f_name = input(\"First name: \")\n",
    " l_name = input(\"Last name: \")\n",
    " \n",
    " formatted_name = get_formatted_name(f_name, l_name)\n",
    " print(\"\\nHello, \" + formatted_name + \"!\")\n",
    " if f_name == 'hi' and l_name == 'hi':\n",
    "    break"
   ]
  },
  {
   "cell_type": "code",
   "execution_count": 11,
   "id": "0ddae7bd",
   "metadata": {},
   "outputs": [
    {
     "name": "stdout",
     "output_type": "stream",
     "text": [
      "\n",
      "Please tell me your name:\n",
      "(enter 'q' at any time to quit)\n",
      "First name: 5\n",
      "Last name: 6\n",
      "\n",
      "Hello, 5 6!\n",
      "\n",
      "Please tell me your name:\n",
      "(enter 'q' at any time to quit)\n",
      "First name: q\n"
     ]
    }
   ],
   "source": [
    "def get_formatted_name(first_name, last_name):\n",
    " \"\"\"Return a full name, neatly formatted.\"\"\"\n",
    " full_name = first_name + ' ' + last_name\n",
    " return full_name.title()\n",
    "while True:\n",
    " print(\"\\nPlease tell me your name:\")\n",
    " print(\"(enter 'q' at any time to quit)\")\n",
    " \n",
    " f_name = input(\"First name: \")\n",
    " if f_name == 'q':\n",
    "  break\n",
    " \n",
    " l_name = input(\"Last name: \")\n",
    " if l_name == 'q':\n",
    "  break\n",
    "\n",
    " formatted_name = get_formatted_name(f_name, l_name)\n",
    " print(\"\\nHello, \" + formatted_name + \"!\")"
   ]
  },
  {
   "cell_type": "code",
   "execution_count": 15,
   "id": "02281f91",
   "metadata": {},
   "outputs": [
    {
     "name": "stdout",
     "output_type": "stream",
     "text": [
      "Hello, Hannah!\n",
      "Hello, Ty!\n",
      "Hello, Margot!\n"
     ]
    }
   ],
   "source": [
    "def greet_users(names):\n",
    " \"\"\"Print a simple greeting to each user in the list.\"\"\"\n",
    " for name in names:\n",
    "  msg = \"Hello, \" + name.title() + \"!\"\n",
    "  print(msg)\n",
    "usernames = ['hannah', 'ty', 'margot']\n",
    "greet_users(usernames)"
   ]
  },
  {
   "cell_type": "code",
   "execution_count": 3,
   "id": "d206f773",
   "metadata": {},
   "outputs": [
    {
     "name": "stdout",
     "output_type": "stream",
     "text": [
      "Hello, Hannah!\n",
      "Hello, Ty!\n",
      "Hello, Margot!\n"
     ]
    }
   ],
   "source": [
    "def greet_users(names):\n",
    " \"\"\"Print a simple greeting to each user in the list.\"\"\"\n",
    " for name in names:\n",
    "  msg = \"Hello, \" + name.title() + \"!\"\n",
    "  print(msg)\n",
    "usernames = ['hannah', 'ty', 'margot']\n",
    "greet_users(usernames)"
   ]
  },
  {
   "cell_type": "code",
   "execution_count": 8,
   "id": "2ae47c02",
   "metadata": {},
   "outputs": [
    {
     "name": "stdout",
     "output_type": "stream",
     "text": [
      "Hello, NAME1 Hannah!\n",
      "Hello, NAME2 Ty!\n",
      "Hello, NAME3 Margot!\n"
     ]
    }
   ],
   "source": [
    "def greet_users(names):\n",
    " \"\"\"Print a simple greeting to each user in the list.\"\"\"\n",
    " for namey, name in names.items():\n",
    "  msg = \"Hello, \" +namey.upper() + \" \" +name.title() + \"!\"\n",
    "  print(msg)\n",
    "usernames = {'name1' :'hannah', 'name2':'ty', 'name3':'margot'}\n",
    "greet_users(usernames)"
   ]
  },
  {
   "cell_type": "code",
   "execution_count": 15,
   "id": "70f523d8",
   "metadata": {},
   "outputs": [
    {
     "name": "stdout",
     "output_type": "stream",
     "text": [
      "Printing model: iphone case\n",
      "Printing model: robot pendant\n",
      "Printing model: dodecahedron\n",
      "\n",
      "The following models have been printed:\n",
      "iphone case\n",
      "robot pendant\n",
      "dodecahedron\n"
     ]
    }
   ],
   "source": [
    "# Start with some designs that need to be printed.\n",
    "unprinted_designs = ['iphone case', 'robot pendant', 'dodecahedron']\n",
    "completed_models = []\n",
    "# Simulate printing each design, until none are left.\n",
    "# Move each design to completed_models after printing.\n",
    "while unprinted_designs:\n",
    " current_design = unprinted_designs.pop(0)\n",
    " # Simulate creating a 3D print from the design.\n",
    " print(\"Printing model: \" + current_design)\n",
    " completed_models.append(current_design)\n",
    " \n",
    "# Display all completed models.\n",
    "print(\"\\nThe following models have been printed:\")\n",
    "for completed_model in completed_models:\n",
    " print(completed_model)"
   ]
  },
  {
   "cell_type": "code",
   "execution_count": 18,
   "id": "74e6695a",
   "metadata": {},
   "outputs": [
    {
     "name": "stdout",
     "output_type": "stream",
     "text": [
      "Printing model: dodecahedron\n",
      "Printing model: robot pendant\n",
      "Printing model: iphone case\n",
      "\n",
      "The following models have been printed:\n",
      "dodecahedron\n",
      "robot pendant\n",
      "iphone case\n"
     ]
    }
   ],
   "source": [
    "unprinted_designs = ['iphone case', 'robot pendant', 'dodecahedron']\n",
    "completed_models = []\n",
    "\n",
    "def print_models(unprinted_designs, completed_models):\n",
    " \"\"\"\n",
    " Simulate printing each design, until none are left.\n",
    " Move each design to completed_models after printing.\n",
    " \"\"\"\n",
    " while unprinted_designs:\n",
    "  current_design = unprinted_designs.pop()\n",
    " \n",
    " # Simulate creating a 3D print from the design.\n",
    "  print(\"Printing model: \" + current_design)\n",
    "  completed_models.append(current_design)\n",
    "\n",
    "def show_completed_models(completed_models):\n",
    " \"\"\"Show all the models that were printed.\"\"\"\n",
    " print(\"\\nThe following models have been printed:\")\n",
    " for completed_model in completed_models:\n",
    "  print(completed_model)\n",
    " \n",
    "print_models(unprinted_designs[:], completed_models) #copy of list using slicing\n",
    "show_completed_models(completed_models)"
   ]
  },
  {
   "cell_type": "code",
   "execution_count": 1,
   "id": "b424bb1e",
   "metadata": {},
   "outputs": [
    {
     "name": "stdout",
     "output_type": "stream",
     "text": [
      "('pepperoni',)\n",
      "('mushrooms', 'green peppers', 'extra cheese')\n"
     ]
    }
   ],
   "source": [
    "def make_pizza(*toppings):\n",
    " \"\"\"Print the list of toppings that have been requested.\"\"\"\n",
    " print(toppings)\n",
    " \n",
    "make_pizza('pepperoni')\n",
    "make_pizza('mushrooms', 'green peppers', 'extra cheese')"
   ]
  },
  {
   "cell_type": "code",
   "execution_count": null,
   "id": "561ccd47",
   "metadata": {},
   "outputs": [],
   "source": []
  }
 ],
 "metadata": {
  "kernelspec": {
   "display_name": "Python 3 (ipykernel)",
   "language": "python",
   "name": "python3"
  },
  "language_info": {
   "codemirror_mode": {
    "name": "ipython",
    "version": 3
   },
   "file_extension": ".py",
   "mimetype": "text/x-python",
   "name": "python",
   "nbconvert_exporter": "python",
   "pygments_lexer": "ipython3",
   "version": "3.9.12"
  },
  "toc": {
   "base_numbering": 1,
   "nav_menu": {},
   "number_sections": true,
   "sideBar": true,
   "skip_h1_title": false,
   "title_cell": "Table of Contents",
   "title_sidebar": "Contents",
   "toc_cell": false,
   "toc_position": {},
   "toc_section_display": true,
   "toc_window_display": false
  }
 },
 "nbformat": 4,
 "nbformat_minor": 5
}
