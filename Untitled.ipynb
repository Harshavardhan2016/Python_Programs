{
 "cells": [
  {
   "cell_type": "code",
   "execution_count": 6,
   "id": "5d030665",
   "metadata": {},
   "outputs": [
    {
     "name": "stdout",
     "output_type": "stream",
     "text": [
      "4\n",
      "enter a number3436\n",
      "336"
     ]
    }
   ],
   "source": [
    "y = int(input())\n",
    "y = str(y)\n",
    "x = int(input(\"enter a number\"))\n",
    "x = str(x)\n",
    "for i in x:\n",
    "    if i != y:\n",
    "        print(i,end=\"\")"
   ]
  },
  {
   "cell_type": "code",
   "execution_count": null,
   "id": "e21be571",
   "metadata": {},
   "outputs": [],
   "source": []
  },
  {
   "cell_type": "code",
   "execution_count": null,
   "id": "e621d777",
   "metadata": {},
   "outputs": [],
   "source": []
  },
  {
   "cell_type": "code",
   "execution_count": 3,
   "id": "99e7acc0",
   "metadata": {},
   "outputs": [
    {
     "name": "stdout",
     "output_type": "stream",
     "text": [
      "True\n"
     ]
    }
   ],
   "source": [
    "a = True\n",
    "b= False\n",
    "print(a or a and b and a) "
   ]
  },
  {
   "cell_type": "code",
   "execution_count": 1,
   "id": "bbba6fed",
   "metadata": {},
   "outputs": [],
   "source": [
    "from datetime import *; from dateutil.relativedelta import *\n",
    "import calendar"
   ]
  },
  {
   "cell_type": "code",
   "execution_count": 2,
   "id": "70f02e74",
   "metadata": {},
   "outputs": [],
   "source": [
    "TODAY = date.today()"
   ]
  },
  {
   "cell_type": "code",
   "execution_count": 16,
   "id": "342180c7",
   "metadata": {},
   "outputs": [
    {
     "data": {
      "text/plain": [
       "6"
      ]
     },
     "execution_count": 16,
     "metadata": {},
     "output_type": "execute_result"
    }
   ],
   "source": [
    "(TODAY+relativedelta(days=+5)).weekday()"
   ]
  },
  {
   "cell_type": "code",
   "execution_count": 2,
   "id": "ecca871f",
   "metadata": {},
   "outputs": [
    {
     "name": "stdout",
     "output_type": "stream",
     "text": [
      "1\n",
      "2\n",
      "3\n",
      "4\n",
      "5\n",
      "6\n",
      "8\n",
      "9\n",
      "10\n"
     ]
    }
   ],
   "source": [
    "for i in range(1,11):\n",
    "    if i ==7:\n",
    "        continue\n",
    "    print(i)"
   ]
  },
  {
   "cell_type": "code",
   "execution_count": 3,
   "id": "3509132d",
   "metadata": {},
   "outputs": [
    {
     "name": "stdout",
     "output_type": "stream",
     "text": [
      "Enter a number20\n",
      "NP\n"
     ]
    }
   ],
   "source": [
    "i = int(input(\"Enter a number\"))\n",
    "count=0\n",
    "for j in range(2,i):\n",
    "    if (i%j==0):\n",
    "        count = count+1\n",
    "if count>2:\n",
    "    print(\"NP\")\n",
    "else:\n",
    "    print(\"P\")"
   ]
  },
  {
   "cell_type": "code",
   "execution_count": 2,
   "id": "5917a6d9",
   "metadata": {},
   "outputs": [
    {
     "name": "stdout",
     "output_type": "stream",
     "text": [
      " *  *  *  *  * \n",
      " *  *  *  * \n",
      " *  *  * \n",
      " *  * \n",
      " * \n"
     ]
    }
   ],
   "source": [
    "for i in range(5):\n",
    "    print(\" * \" * (5-i))"
   ]
  },
  {
   "cell_type": "code",
   "execution_count": 13,
   "id": "bfc5157b",
   "metadata": {},
   "outputs": [
    {
     "name": "stdout",
     "output_type": "stream",
     "text": [
      "50\n",
      "np\n"
     ]
    }
   ],
   "source": [
    "n = int(input())\n",
    "c=0\n",
    "for i in range(2,n+1):\n",
    "    if (n%i==0):\n",
    "        c+=1\n",
    "if c==1:\n",
    "        print(\"Prime\")\n",
    "else:\n",
    "        print(\"np\")"
   ]
  },
  {
   "cell_type": "code",
   "execution_count": null,
   "id": "5236d388",
   "metadata": {},
   "outputs": [],
   "source": []
  },
  {
   "cell_type": "code",
   "execution_count": 2,
   "id": "79f2ce65",
   "metadata": {},
   "outputs": [
    {
     "data": {
      "text/plain": [
       "{'1': 2, '3': 4}"
      ]
     },
     "execution_count": 2,
     "metadata": {},
     "output_type": "execute_result"
    }
   ],
   "source": [
    "a={'1':2}\n",
    "b={'3':4}\n",
    "c={**a,**b}\n",
    "c"
   ]
  },
  {
   "cell_type": "code",
   "execution_count": 1,
   "id": "da6825ce",
   "metadata": {},
   "outputs": [],
   "source": [
    "name =list('harsha')"
   ]
  },
  {
   "cell_type": "code",
   "execution_count": 6,
   "id": "a885aa5e",
   "metadata": {},
   "outputs": [
    {
     "name": "stdout",
     "output_type": "stream",
     "text": [
      "h    h\n",
      "a  a\n",
      "rr\n",
      "ss\n",
      "hh\n",
      "aa\n"
     ]
    }
   ],
   "source": [
    "space = len(name)-2\n",
    "star = 1\n",
    "for i in range(len(name)):\n",
    "    for j in range(star):\n",
    "        print(name[i], end=\"\")\n",
    "    for k in range(space):\n",
    "        print(\" \", end=\"\")\n",
    "    for l in range(star):\n",
    "        print(name[i], end=\"\")\n",
    "    print()\n",
    "    space-=2"
   ]
  },
  {
   "cell_type": "code",
   "execution_count": null,
   "id": "d3ec7cc4",
   "metadata": {},
   "outputs": [],
   "source": []
  },
  {
   "cell_type": "code",
   "execution_count": null,
   "id": "911a2dc5",
   "metadata": {},
   "outputs": [],
   "source": []
  },
  {
   "cell_type": "code",
   "execution_count": null,
   "id": "9105e147",
   "metadata": {},
   "outputs": [],
   "source": []
  }
 ],
 "metadata": {
  "kernelspec": {
   "display_name": "Python 3 (ipykernel)",
   "language": "python",
   "name": "python3"
  },
  "language_info": {
   "codemirror_mode": {
    "name": "ipython",
    "version": 3
   },
   "file_extension": ".py",
   "mimetype": "text/x-python",
   "name": "python",
   "nbconvert_exporter": "python",
   "pygments_lexer": "ipython3",
   "version": "3.9.12"
  },
  "toc": {
   "base_numbering": 1,
   "nav_menu": {},
   "number_sections": true,
   "sideBar": true,
   "skip_h1_title": false,
   "title_cell": "Table of Contents",
   "title_sidebar": "Contents",
   "toc_cell": false,
   "toc_position": {},
   "toc_section_display": true,
   "toc_window_display": false
  }
 },
 "nbformat": 4,
 "nbformat_minor": 5
}
